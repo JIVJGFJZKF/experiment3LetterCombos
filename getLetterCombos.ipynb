{
 "cells": [
  {
   "cell_type": "markdown",
   "metadata": {},
   "source": [
    "This came from a conversation in Dayton, OH with Madelyn while we were driving back from lunch with my Father - they were taking me back to work.  Madelyn and I were discussing how averages work and what they mean; the notepad I had scribbled on was an \"RLE Business Solutions\" notepad, which had \"RLE\" as a watermark.  Madelyn was asking about how many different 3-letter combinations exist.  We discussed and she asked \"Daddy can you show it in Jupyter like when you came to my class?\""
   ]
  },
  {
   "cell_type": "code",
   "execution_count": 1,
   "metadata": {},
   "outputs": [],
   "source": [
    "from itertools import product\n",
    "from string import ascii_lowercase\n",
    "keywords = [''.join(i) for i in product(ascii_lowercase, repeat = 3)]"
   ]
  },
  {
   "cell_type": "code",
   "execution_count": 2,
   "metadata": {},
   "outputs": [
    {
     "name": "stdout",
     "output_type": "stream",
     "text": [
      "aaa\n",
      "aab\n",
      "aac\n",
      "aad\n",
      "aae\n",
      "aaf\n",
      "aag\n",
      "aah\n",
      "aai\n",
      "aaj\n",
      "17576\n"
     ]
    }
   ],
   "source": [
    "print('\\n'.join(keywords[0:10]))\n",
    "print(len(keywords))"
   ]
  },
  {
   "cell_type": "code",
   "execution_count": 3,
   "metadata": {},
   "outputs": [],
   "source": [
    "t = open(\"3LetterCombinations.txt\",'w')\n",
    "t.write('\\n'.join(keywords))\n",
    "t.close()"
   ]
  },
  {
   "cell_type": "code",
   "execution_count": null,
   "metadata": {},
   "outputs": [],
   "source": []
  }
 ],
 "metadata": {
  "kernelspec": {
   "display_name": "Python 3",
   "language": "python",
   "name": "python3"
  },
  "language_info": {
   "codemirror_mode": {
    "name": "ipython",
    "version": 3
   },
   "file_extension": ".py",
   "mimetype": "text/x-python",
   "name": "python",
   "nbconvert_exporter": "python",
   "pygments_lexer": "ipython3",
   "version": "3.6.5"
  }
 },
 "nbformat": 4,
 "nbformat_minor": 2
}
